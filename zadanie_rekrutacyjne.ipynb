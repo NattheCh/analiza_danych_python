{
 "cells": [
  {
   "cell_type": "markdown",
   "metadata": {},
   "source": [
    "**Seria warsztatów z analizy danych w Pythonie**\n",
    "\n",
    "_Zadanie rekrutacyjne_\n",
    "\n",
    "Napisz funkcję <code><font color=\"blue\">are_anagrams</font>(s1, s2, s3)</code>, która zwróci:\n",
    "\n",
    "* <code>True</code>, jeżeli łańcuchy znaków <code>s1, s2, s3</code> są anagramami,\n",
    "\n",
    "* <code>False</code>, jeżeli łańcuchy znaków <code>s1, s2, s3</code> nie są anagramami.\n",
    "\n",
    "Załóż, że maksymalna długość każdego z łańcuchów znaków jest równa **5**.\n",
    "\n",
    "Uzasadnij zaproponowane rozwiązanie, umieszczając komentarze w treści kodu."
   ]
  },
  {
   "cell_type": "code",
   "execution_count": 10,
   "metadata": {},
   "outputs": [],
   "source": [
    "def are_anagrams(s1, s2, s3):\n",
    "    ''' funkcja sorted została użyta, aby znaki w s1, s2 i s3 zostały posortowane\n",
    "    następnie s1, s2, s3 zostały ze sobą porównane, ponieważ jeżeli są anagramami to po sortowaniu powinny być sobie równe\n",
    "    następnie wiedząc, że s1, s2 i s3 muszą być sobie równe wybrany został jeden z nich po to, żeby sprawdzić czy dłogość łańcucha znaków jest równa 5\n",
    "    jeżeli zostaną spełnione wszystkie warunki funkcja zwróci wartość True, a jeżeli którykolwiek warunek nie zostanie spełniony funkcja zwróci wartość False'''\n",
    "    return sorted(s1) == sorted(s2) == sorted(s3) and len(s1) == 5"
   ]
  }
 ],
 "metadata": {
  "celltoolbar": "Edit Metadata",
  "kernelspec": {
   "display_name": "Python 3",
   "language": "python",
   "name": "python3"
  },
  "language_info": {
   "codemirror_mode": {
    "name": "ipython",
    "version": 3
   },
   "file_extension": ".py",
   "mimetype": "text/x-python",
   "name": "python",
   "nbconvert_exporter": "python",
   "pygments_lexer": "ipython3",
   "version": "3.8.5"
  }
 },
 "nbformat": 4,
 "nbformat_minor": 4
}
